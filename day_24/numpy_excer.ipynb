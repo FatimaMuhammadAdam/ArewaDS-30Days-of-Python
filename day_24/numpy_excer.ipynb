{
  "nbformat": 4,
  "nbformat_minor": 0,
  "metadata": {
    "colab": {
      "provenance": []
    },
    "kernelspec": {
      "name": "python3",
      "display_name": "Python 3"
    },
    "language_info": {
      "name": "python"
    }
  },
  "cells": [
    {
      "cell_type": "markdown",
      "source": [
        "Numpy excersise day 24"
      ],
      "metadata": {
        "id": "vpCfJ16kYD2W"
      }
    },
    {
      "cell_type": "code",
      "execution_count": 2,
      "metadata": {
        "colab": {
          "base_uri": "https://localhost:8080/"
        },
        "id": "YeIs91wuXMwx",
        "outputId": "35b7caf3-8f86-42c6-b309-d150d464d539"
      },
      "outputs": [
        {
          "output_type": "stream",
          "name": "stdout",
          "text": [
            "numpy: 1.22.4\n",
            "['ALLOW_THREADS', 'AxisError', 'BUFSIZE', 'CLIP', 'ComplexWarning', 'DataSource', 'ERR_CALL', 'ERR_DEFAULT', 'ERR_IGNORE', 'ERR_LOG', 'ERR_PRINT', 'ERR_RAISE', 'ERR_WARN', 'FLOATING_POINT_SUPPORT', 'FPE_DIVIDEBYZERO', 'FPE_INVALID', 'FPE_OVERFLOW', 'FPE_UNDERFLOW', 'False_', 'Inf', 'Infinity', 'MAXDIMS', 'MAY_SHARE_BOUNDS', 'MAY_SHARE_EXACT', 'ModuleDeprecationWarning', 'NAN', 'NINF', 'NZERO', 'NaN', 'PINF', 'PZERO', 'RAISE', 'RankWarning', 'SHIFT_DIVIDEBYZERO', 'SHIFT_INVALID', 'SHIFT_OVERFLOW', 'SHIFT_UNDERFLOW', 'ScalarType', 'Tester', 'TooHardError', 'True_', 'UFUNC_BUFSIZE_DEFAULT', 'UFUNC_PYVALS_NAME', 'VisibleDeprecationWarning', 'WRAP', '_CopyMode', '_NoValue', '_UFUNC_API', '__NUMPY_SETUP__', '__all__', '__builtins__', '__cached__', '__config__', '__deprecated_attrs__', '__dir__', '__doc__', '__expired_functions__', '__file__', '__getattr__', '__git_version__', '__loader__', '__name__', '__package__', '__path__', '__spec__', '__version__', '_add_newdoc_ufunc', '_distributor_init', '_financial_names', '_from_dlpack', '_globals', '_mat', '_pytesttester', '_version', 'abs', 'absolute', 'add', 'add_docstring', 'add_newdoc', 'add_newdoc_ufunc', 'alen', 'all', 'allclose', 'alltrue', 'amax', 'amin', 'angle', 'any', 'append', 'apply_along_axis', 'apply_over_axes', 'arange', 'arccos', 'arccosh', 'arcsin', 'arcsinh', 'arctan', 'arctan2', 'arctanh', 'argmax', 'argmin', 'argpartition', 'argsort', 'argwhere', 'around', 'array', 'array2string', 'array_equal', 'array_equiv', 'array_repr', 'array_split', 'array_str', 'asanyarray', 'asarray', 'asarray_chkfinite', 'ascontiguousarray', 'asfarray', 'asfortranarray', 'asmatrix', 'asscalar', 'atleast_1d', 'atleast_2d', 'atleast_3d', 'average', 'bartlett', 'base_repr', 'binary_repr', 'bincount', 'bitwise_and', 'bitwise_not', 'bitwise_or', 'bitwise_xor', 'blackman', 'block', 'bmat', 'bool8', 'bool_', 'broadcast', 'broadcast_arrays', 'broadcast_shapes', 'broadcast_to', 'busday_count', 'busday_offset', 'busdaycalendar', 'byte', 'byte_bounds', 'bytes0', 'bytes_', 'c_', 'can_cast', 'cast', 'cbrt', 'cdouble', 'ceil', 'cfloat', 'char', 'character', 'chararray', 'choose', 'clip', 'clongdouble', 'clongfloat', 'column_stack', 'common_type', 'compare_chararrays', 'compat', 'complex128', 'complex256', 'complex64', 'complex_', 'complexfloating', 'compress', 'concatenate', 'conj', 'conjugate', 'convolve', 'copy', 'copysign', 'copyto', 'core', 'corrcoef', 'correlate', 'cos', 'cosh', 'count_nonzero', 'cov', 'cross', 'csingle', 'ctypeslib', 'cumprod', 'cumproduct', 'cumsum', 'datetime64', 'datetime_as_string', 'datetime_data', 'deg2rad', 'degrees', 'delete', 'deprecate', 'deprecate_with_doc', 'diag', 'diag_indices', 'diag_indices_from', 'diagflat', 'diagonal', 'diff', 'digitize', 'disp', 'divide', 'divmod', 'dot', 'double', 'dsplit', 'dstack', 'dtype', 'e', 'ediff1d', 'einsum', 'einsum_path', 'emath', 'empty', 'empty_like', 'equal', 'errstate', 'euler_gamma', 'exp', 'exp2', 'expand_dims', 'expm1', 'extract', 'eye', 'fabs', 'fastCopyAndTranspose', 'fft', 'fill_diagonal', 'find_common_type', 'finfo', 'fix', 'flatiter', 'flatnonzero', 'flexible', 'flip', 'fliplr', 'flipud', 'float128', 'float16', 'float32', 'float64', 'float_', 'float_power', 'floating', 'floor', 'floor_divide', 'fmax', 'fmin', 'fmod', 'format_float_positional', 'format_float_scientific', 'format_parser', 'frexp', 'frombuffer', 'fromfile', 'fromfunction', 'fromiter', 'frompyfunc', 'fromregex', 'fromstring', 'full', 'full_like', 'gcd', 'generic', 'genfromtxt', 'geomspace', 'get_array_wrap', 'get_include', 'get_printoptions', 'getbufsize', 'geterr', 'geterrcall', 'geterrobj', 'gradient', 'greater', 'greater_equal', 'half', 'hamming', 'hanning', 'heaviside', 'histogram', 'histogram2d', 'histogram_bin_edges', 'histogramdd', 'hsplit', 'hstack', 'hypot', 'i0', 'identity', 'iinfo', 'imag', 'in1d', 'index_exp', 'indices', 'inexact', 'inf', 'info', 'infty', 'inner', 'insert', 'int0', 'int16', 'int32', 'int64', 'int8', 'int_', 'intc', 'integer', 'interp', 'intersect1d', 'intp', 'invert', 'is_busday', 'isclose', 'iscomplex', 'iscomplexobj', 'isfinite', 'isfortran', 'isin', 'isinf', 'isnan', 'isnat', 'isneginf', 'isposinf', 'isreal', 'isrealobj', 'isscalar', 'issctype', 'issubclass_', 'issubdtype', 'issubsctype', 'iterable', 'ix_', 'kaiser', 'kernel_version', 'kron', 'lcm', 'ldexp', 'left_shift', 'less', 'less_equal', 'lexsort', 'lib', 'linalg', 'linspace', 'little_endian', 'load', 'loadtxt', 'log', 'log10', 'log1p', 'log2', 'logaddexp', 'logaddexp2', 'logical_and', 'logical_not', 'logical_or', 'logical_xor', 'logspace', 'longcomplex', 'longdouble', 'longfloat', 'longlong', 'lookfor', 'ma', 'mask_indices', 'mat', 'math', 'matmul', 'matrix', 'matrixlib', 'max', 'maximum', 'maximum_sctype', 'may_share_memory', 'mean', 'median', 'memmap', 'meshgrid', 'mgrid', 'min', 'min_scalar_type', 'minimum', 'mintypecode', 'mod', 'modf', 'moveaxis', 'msort', 'multiply', 'nan', 'nan_to_num', 'nanargmax', 'nanargmin', 'nancumprod', 'nancumsum', 'nanmax', 'nanmean', 'nanmedian', 'nanmin', 'nanpercentile', 'nanprod', 'nanquantile', 'nanstd', 'nansum', 'nanvar', 'nbytes', 'ndarray', 'ndenumerate', 'ndim', 'ndindex', 'nditer', 'negative', 'nested_iters', 'newaxis', 'nextafter', 'nonzero', 'not_equal', 'numarray', 'number', 'obj2sctype', 'object0', 'object_', 'ogrid', 'oldnumeric', 'ones', 'ones_like', 'os', 'outer', 'packbits', 'pad', 'partition', 'percentile', 'pi', 'piecewise', 'place', 'poly', 'poly1d', 'polyadd', 'polyder', 'polydiv', 'polyfit', 'polyint', 'polymul', 'polynomial', 'polysub', 'polyval', 'positive', 'power', 'printoptions', 'prod', 'product', 'promote_types', 'ptp', 'put', 'put_along_axis', 'putmask', 'quantile', 'r_', 'rad2deg', 'radians', 'random', 'ravel', 'ravel_multi_index', 'real', 'real_if_close', 'rec', 'recarray', 'recfromcsv', 'recfromtxt', 'reciprocal', 'record', 'remainder', 'repeat', 'require', 'reshape', 'resize', 'result_type', 'right_shift', 'rint', 'roll', 'rollaxis', 'roots', 'rot90', 'round', 'round_', 'row_stack', 's_', 'safe_eval', 'save', 'savetxt', 'savez', 'savez_compressed', 'sctype2char', 'sctypeDict', 'sctypes', 'searchsorted', 'select', 'set_numeric_ops', 'set_printoptions', 'set_string_function', 'setbufsize', 'setdiff1d', 'seterr', 'seterrcall', 'seterrobj', 'setxor1d', 'shape', 'shares_memory', 'short', 'show_config', 'sign', 'signbit', 'signedinteger', 'sin', 'sinc', 'single', 'singlecomplex', 'sinh', 'size', 'sometrue', 'sort', 'sort_complex', 'source', 'spacing', 'split', 'sqrt', 'square', 'squeeze', 'stack', 'std', 'str0', 'str_', 'string_', 'subtract', 'sum', 'swapaxes', 'sys', 'take', 'take_along_axis', 'tan', 'tanh', 'tensordot', 'test', 'testing', 'tile', 'timedelta64', 'trace', 'tracemalloc_domain', 'transpose', 'trapz', 'tri', 'tril', 'tril_indices', 'tril_indices_from', 'trim_zeros', 'triu', 'triu_indices', 'triu_indices_from', 'true_divide', 'trunc', 'typecodes', 'typename', 'ubyte', 'ufunc', 'uint', 'uint0', 'uint16', 'uint32', 'uint64', 'uint8', 'uintc', 'uintp', 'ulonglong', 'unicode_', 'union1d', 'unique', 'unpackbits', 'unravel_index', 'unsignedinteger', 'unwrap', 'use_hugepage', 'ushort', 'vander', 'var', 'vdot', 'vectorize', 'version', 'void', 'void0', 'vsplit', 'vstack', 'warnings', 'where', 'who', 'zeros', 'zeros_like']\n"
          ]
        }
      ],
      "source": [
        " # How to import numpy\n",
        "import numpy as np\n",
        "    # How to check the version of the numpy package\n",
        "print('numpy:', np.__version__)\n",
        "    # Checking the available methods\n",
        "print(dir(np))"
      ]
    },
    {
      "cell_type": "code",
      "source": [
        "python_list = [1,2,3,4,5]\n",
        "\n",
        "    # Checking data types\n",
        "print('Type:', type (python_list)) # <class 'list'>\n",
        "    #\n",
        "print(python_list) # [1, 2, 3, 4, 5]\n",
        "\n",
        "two_dimensional_list = [[0,1,2], [3,4,5], [6,7,8]]\n",
        "\n",
        "print(two_dimensional_list)  # [[0, 1, 2], [3, 4, 5], [6, 7, 8]]\n",
        "\n",
        "    # Creating Numpy(Numerical Python) array from python list\n",
        "\n",
        "numpy_array_from_list = np.array(python_list)\n",
        "print(type (numpy_array_from_list))   # <class 'numpy.ndarray'>\n",
        "print(numpy_array_from_list) # array([1, 2, 3, 4, 5])\n"
      ],
      "metadata": {
        "colab": {
          "base_uri": "https://localhost:8080/"
        },
        "id": "SrXjHEUSXaCh",
        "outputId": "c149c996-b2e7-4336-9c71-59f9c4d59107"
      },
      "execution_count": 3,
      "outputs": [
        {
          "output_type": "stream",
          "name": "stdout",
          "text": [
            "Type: <class 'list'>\n",
            "[1, 2, 3, 4, 5]\n",
            "[[0, 1, 2], [3, 4, 5], [6, 7, 8]]\n",
            "<class 'numpy.ndarray'>\n",
            "[1 2 3 4 5]\n"
          ]
        }
      ]
    },
    {
      "cell_type": "code",
      "source": [
        "# Python list\n",
        "python_list = [1,2,3,4,5]\n",
        "\n",
        "numy_array_from_list2 = np.array(python_list, dtype=float)\n",
        "print(numy_array_from_list2) # array([1., 2., 3., 4., 5.])"
      ],
      "metadata": {
        "colab": {
          "base_uri": "https://localhost:8080/"
        },
        "id": "U-cnTOpGYBWo",
        "outputId": "e8fa9a07-3b80-4066-bec7-86d38f484000"
      },
      "execution_count": 4,
      "outputs": [
        {
          "output_type": "stream",
          "name": "stdout",
          "text": [
            "[1. 2. 3. 4. 5.]\n"
          ]
        }
      ]
    },
    {
      "cell_type": "code",
      "source": [
        "numpy_bool_array = np.array([0, 1, -1, 0, 0], dtype=bool)\n",
        "print(numpy_bool_array)"
      ],
      "metadata": {
        "colab": {
          "base_uri": "https://localhost:8080/"
        },
        "id": "weorlbtoYXgw",
        "outputId": "b699ff44-89eb-4e5e-b7a7-737cf0487fd8"
      },
      "execution_count": 5,
      "outputs": [
        {
          "output_type": "stream",
          "name": "stdout",
          "text": [
            "[False  True  True False False]\n"
          ]
        }
      ]
    },
    {
      "cell_type": "code",
      "source": [
        "two_dimensional_list = [[0,1,2], [3,4,5], [6,7,8]]\n",
        "numpy_two_dimensional_list = np.array(two_dimensional_list)\n",
        "print(type (numpy_two_dimensional_list))\n",
        "print(numpy_two_dimensional_list)"
      ],
      "metadata": {
        "colab": {
          "base_uri": "https://localhost:8080/"
        },
        "id": "a5Gm0EtzYiQo",
        "outputId": "bc158767-dc32-4255-89ba-9fe99e21b4c6"
      },
      "execution_count": 6,
      "outputs": [
        {
          "output_type": "stream",
          "name": "stdout",
          "text": [
            "<class 'numpy.ndarray'>\n",
            "[[0 1 2]\n",
            " [3 4 5]\n",
            " [6 7 8]]\n"
          ]
        }
      ]
    },
    {
      "cell_type": "code",
      "source": [
        "np_to_list = numpy_array_from_list.tolist()\n",
        "print(type (np_to_list))\n",
        "print('one dimensional array:', np_to_list)\n",
        "print('two dimensional array: ', numpy_two_dimensional_list.tolist())"
      ],
      "metadata": {
        "colab": {
          "base_uri": "https://localhost:8080/"
        },
        "id": "VoIc4qK6YwKI",
        "outputId": "241204b5-a729-4371-fbd3-4627236e05b3"
      },
      "execution_count": 7,
      "outputs": [
        {
          "output_type": "stream",
          "name": "stdout",
          "text": [
            "<class 'list'>\n",
            "one dimensional array: [1, 2, 3, 4, 5]\n",
            "two dimensional array:  [[0, 1, 2], [3, 4, 5], [6, 7, 8]]\n"
          ]
        }
      ]
    },
    {
      "cell_type": "code",
      "source": [
        "# Creating tuple in Python\n",
        "python_tuple = (1,2,3,4,5)\n",
        "print(type (python_tuple)) # <class 'tuple'>\n",
        "print('python_tuple: ', python_tuple) # python_tuple:  (1, 2, 3, 4, 5)\n",
        "\n",
        "numpy_array_from_tuple = np.array(python_tuple)\n",
        "print(type (numpy_array_from_tuple)) # <class 'numpy.ndarray'>\n",
        "print('numpy_array_from_tuple: ', numpy_array_from_tuple) # numpy_array_from_tuple:  [1 2 3 4 5]"
      ],
      "metadata": {
        "colab": {
          "base_uri": "https://localhost:8080/"
        },
        "id": "xWWw1XGtY8A1",
        "outputId": "243e6640-6ccf-4762-a3f0-19a016c3e787"
      },
      "execution_count": 8,
      "outputs": [
        {
          "output_type": "stream",
          "name": "stdout",
          "text": [
            "<class 'tuple'>\n",
            "python_tuple:  (1, 2, 3, 4, 5)\n",
            "<class 'numpy.ndarray'>\n",
            "numpy_array_from_tuple:  [1 2 3 4 5]\n"
          ]
        }
      ]
    },
    {
      "cell_type": "code",
      "source": [
        "nums = np.array([1, 2, 3, 4, 5])\n",
        "print(nums)\n",
        "print('shape of nums: ', nums.shape)\n",
        "print(numpy_two_dimensional_list)\n",
        "print('shape of numpy_two_dimensional_list: ', numpy_two_dimensional_list.shape)\n",
        "three_by_four_array = np.array([[0, 1, 2, 3],\n",
        "        [4,5,6,7],\n",
        "        [8,9,10, 11]])\n",
        "print(three_by_four_array.shape)"
      ],
      "metadata": {
        "colab": {
          "base_uri": "https://localhost:8080/"
        },
        "id": "UlkmQf8QZGcZ",
        "outputId": "d7575c1e-3690-4ecc-b35e-5b447073d78b"
      },
      "execution_count": 9,
      "outputs": [
        {
          "output_type": "stream",
          "name": "stdout",
          "text": [
            "[1 2 3 4 5]\n",
            "shape of nums:  (5,)\n",
            "[[0 1 2]\n",
            " [3 4 5]\n",
            " [6 7 8]]\n",
            "shape of numpy_two_dimensional_list:  (3, 3)\n",
            "(3, 4)\n"
          ]
        }
      ]
    },
    {
      "cell_type": "code",
      "source": [
        "#Type of data types: str, int, float, complex, bool, list, None\n",
        "\n",
        "int_lists = [-3, -2, -1, 0, 1, 2,3]\n",
        "int_array = np.array(int_lists)\n",
        "float_array = np.array(int_lists, dtype=float)\n",
        "\n",
        "print(int_array)\n",
        "print(int_array.dtype)\n",
        "print(float_array)\n",
        "print(float_array.dtype)"
      ],
      "metadata": {
        "colab": {
          "base_uri": "https://localhost:8080/"
        },
        "id": "nPjDzIUqZXQ9",
        "outputId": "3e5ba623-25a5-491f-a6c2-0970f24eb4e4"
      },
      "execution_count": 10,
      "outputs": [
        {
          "output_type": "stream",
          "name": "stdout",
          "text": [
            "[-3 -2 -1  0  1  2  3]\n",
            "int64\n",
            "[-3. -2. -1.  0.  1.  2.  3.]\n",
            "float64\n"
          ]
        }
      ]
    },
    {
      "cell_type": "code",
      "source": [
        "numpy_array_from_list = np.array([1, 2, 3, 4, 5])\n",
        "two_dimensional_list = np.array([[0, 1, 2],\n",
        "                              [3, 4, 5],\n",
        "                              [6, 7, 8]])\n",
        "\n",
        "print('The size:', numpy_array_from_list.size) # 5\n",
        "print('The size:', two_dimensional_list.size)  # 3"
      ],
      "metadata": {
        "colab": {
          "base_uri": "https://localhost:8080/"
        },
        "id": "xq9jtpVzZgkc",
        "outputId": "f0c12f8f-44ea-4b00-b0b0-af0e7f507316"
      },
      "execution_count": 11,
      "outputs": [
        {
          "output_type": "stream",
          "name": "stdout",
          "text": [
            "The size: 5\n",
            "The size: 9\n"
          ]
        }
      ]
    },
    {
      "cell_type": "code",
      "source": [
        "# Mathematical Operation\n",
        "# Addition\n",
        "numpy_array_from_list = np.array([1, 2, 3, 4, 5])\n",
        "print('original array: ', numpy_array_from_list)\n",
        "ten_plus_original = numpy_array_from_list  + 10\n",
        "print(ten_plus_original)"
      ],
      "metadata": {
        "colab": {
          "base_uri": "https://localhost:8080/"
        },
        "id": "6iE1ZNeCZp3m",
        "outputId": "4733f938-2c17-4db6-bb0e-81f2306396de"
      },
      "execution_count": 12,
      "outputs": [
        {
          "output_type": "stream",
          "name": "stdout",
          "text": [
            "original array:  [1 2 3 4 5]\n",
            "[11 12 13 14 15]\n"
          ]
        }
      ]
    },
    {
      "cell_type": "code",
      "source": [
        "# Subtraction\n",
        "numpy_array_from_list = np.array([1, 2, 3, 4, 5])\n",
        "print('original array: ', numpy_array_from_list)\n",
        "ten_minus_original = numpy_array_from_list  - 10\n",
        "print(ten_minus_original)\n"
      ],
      "metadata": {
        "colab": {
          "base_uri": "https://localhost:8080/"
        },
        "id": "uzIRxDa1ZywQ",
        "outputId": "f49ea666-12d8-416f-ebec-a889ee4fbf4c"
      },
      "execution_count": 13,
      "outputs": [
        {
          "output_type": "stream",
          "name": "stdout",
          "text": [
            "original array:  [1 2 3 4 5]\n",
            "[-9 -8 -7 -6 -5]\n"
          ]
        }
      ]
    },
    {
      "cell_type": "code",
      "source": [
        "# Multiplication\n",
        "numpy_array_from_list = np.array([1, 2, 3, 4, 5])\n",
        "print('original array: ', numpy_array_from_list)\n",
        "ten_times_original = numpy_array_from_list * 10\n",
        "print(ten_times_original)\n"
      ],
      "metadata": {
        "colab": {
          "base_uri": "https://localhost:8080/"
        },
        "id": "vbn_uwsiZ58O",
        "outputId": "616acb4d-816e-4282-9acf-42185be753a2"
      },
      "execution_count": 14,
      "outputs": [
        {
          "output_type": "stream",
          "name": "stdout",
          "text": [
            "original array:  [1 2 3 4 5]\n",
            "[10 20 30 40 50]\n"
          ]
        }
      ]
    },
    {
      "cell_type": "code",
      "source": [
        "# Division\n",
        "numpy_array_from_list = np.array([1, 2, 3, 4, 5])\n",
        "print('original array: ', numpy_array_from_list)\n",
        "ten_times_original = numpy_array_from_list / 10\n",
        "print(ten_times_original)"
      ],
      "metadata": {
        "colab": {
          "base_uri": "https://localhost:8080/"
        },
        "id": "Yd4qyhc5Z_1_",
        "outputId": "55d42335-7c12-43c7-9e45-da3dd01e334e"
      },
      "execution_count": 15,
      "outputs": [
        {
          "output_type": "stream",
          "name": "stdout",
          "text": [
            "original array:  [1 2 3 4 5]\n",
            "[0.1 0.2 0.3 0.4 0.5]\n"
          ]
        }
      ]
    },
    {
      "cell_type": "code",
      "source": [
        "# Modulus; Finding the remainder\n",
        "numpy_array_from_list = np.array([1, 2, 3, 4, 5])\n",
        "print('original array: ', numpy_array_from_list)\n",
        "ten_times_original = numpy_array_from_list % 3\n",
        "print(ten_times_original)"
      ],
      "metadata": {
        "colab": {
          "base_uri": "https://localhost:8080/"
        },
        "id": "VpYOvSKnaGEo",
        "outputId": "72e0e113-7745-43f8-9c86-9795bf1a5d82"
      },
      "execution_count": 16,
      "outputs": [
        {
          "output_type": "stream",
          "name": "stdout",
          "text": [
            "original array:  [1 2 3 4 5]\n",
            "[1 2 0 1 2]\n"
          ]
        }
      ]
    },
    {
      "cell_type": "code",
      "source": [
        "# Floor division: the division result without the remainder\n",
        "numpy_array_from_list = np.array([1, 2, 3, 4, 5])\n",
        "print('original array: ', numpy_array_from_list)\n",
        "ten_times_original = numpy_array_from_list // 10\n",
        "print(ten_times_original)"
      ],
      "metadata": {
        "colab": {
          "base_uri": "https://localhost:8080/"
        },
        "id": "sWMJFfqraLJg",
        "outputId": "1f3bc1ae-706b-498d-f3df-1e6252160e06"
      },
      "execution_count": 17,
      "outputs": [
        {
          "output_type": "stream",
          "name": "stdout",
          "text": [
            "original array:  [1 2 3 4 5]\n",
            "[0 0 0 0 0]\n"
          ]
        }
      ]
    },
    {
      "cell_type": "code",
      "source": [
        "numpy_array_from_list = np.array([1, 2, 3, 4, 5])\n",
        "print('original array: ', numpy_array_from_list)\n",
        "ten_times_original = numpy_array_from_list  ** 2\n",
        "print(ten_times_original)"
      ],
      "metadata": {
        "colab": {
          "base_uri": "https://localhost:8080/"
        },
        "id": "BnllJnoDa3UP",
        "outputId": "f5de20ca-d74b-4fc2-b0a3-00bc96a396ed"
      },
      "execution_count": 18,
      "outputs": [
        {
          "output_type": "stream",
          "name": "stdout",
          "text": [
            "original array:  [1 2 3 4 5]\n",
            "[ 1  4  9 16 25]\n"
          ]
        }
      ]
    },
    {
      "cell_type": "code",
      "source": [
        "#Int,  Float numbers\n",
        "numpy_int_arr = np.array([1,2,3,4])\n",
        "numpy_float_arr = np.array([1.1, 2.0,3.2])\n",
        "numpy_bool_arr = np.array([-3, -2, 0, 1,2,3], dtype='bool')\n",
        "\n",
        "print(numpy_int_arr.dtype)\n",
        "print(numpy_float_arr.dtype)\n",
        "print(numpy_bool_arr.dtype)"
      ],
      "metadata": {
        "colab": {
          "base_uri": "https://localhost:8080/"
        },
        "id": "RKAUTsE-a9-f",
        "outputId": "44b2b370-7dd0-4db5-ab0e-d7e81e6fc7f0"
      },
      "execution_count": 19,
      "outputs": [
        {
          "output_type": "stream",
          "name": "stdout",
          "text": [
            "int64\n",
            "float64\n",
            "bool\n"
          ]
        }
      ]
    },
    {
      "cell_type": "code",
      "source": [
        "numpy_int_arr = np.array([1,2,3,4], dtype = 'float')\n",
        "numpy_int_arr"
      ],
      "metadata": {
        "colab": {
          "base_uri": "https://localhost:8080/"
        },
        "id": "Zz5LAjIlbEp8",
        "outputId": "8cd42e86-bd43-4e52-94b9-7bb926a00cb9"
      },
      "execution_count": 20,
      "outputs": [
        {
          "output_type": "execute_result",
          "data": {
            "text/plain": [
              "array([1., 2., 3., 4.])"
            ]
          },
          "metadata": {},
          "execution_count": 20
        }
      ]
    },
    {
      "cell_type": "code",
      "source": [
        "numpy_int_arr = np.array([1., 2., 3., 4.], dtype = 'int')\n",
        "numpy_int_arr"
      ],
      "metadata": {
        "colab": {
          "base_uri": "https://localhost:8080/"
        },
        "id": "PFILiTyYbOzH",
        "outputId": "f0c34c31-a742-4436-8770-81adfada6f48"
      },
      "execution_count": 21,
      "outputs": [
        {
          "output_type": "execute_result",
          "data": {
            "text/plain": [
              "array([1, 2, 3, 4])"
            ]
          },
          "metadata": {},
          "execution_count": 21
        }
      ]
    },
    {
      "cell_type": "code",
      "source": [
        "np.array([-3, -2, 0, 1,2,3], dtype='bool')"
      ],
      "metadata": {
        "colab": {
          "base_uri": "https://localhost:8080/"
        },
        "id": "IAWX8OM2bUh4",
        "outputId": "9da17833-1a77-40c6-e76b-7e5a967e77f2"
      },
      "execution_count": 22,
      "outputs": [
        {
          "output_type": "execute_result",
          "data": {
            "text/plain": [
              "array([ True,  True, False,  True,  True,  True])"
            ]
          },
          "metadata": {},
          "execution_count": 22
        }
      ]
    },
    {
      "cell_type": "code",
      "source": [
        "# 2 Dimension Array\n",
        "two_dimension_array = np.array([(1,2,3),(4,5,6), (7,8,9)])\n",
        "print(type (two_dimension_array))\n",
        "print(two_dimension_array)\n",
        "print('Shape: ', two_dimension_array.shape)\n",
        "print('Size:', two_dimension_array.size)\n",
        "print('Data type:', two_dimension_array.dtype)\n"
      ],
      "metadata": {
        "colab": {
          "base_uri": "https://localhost:8080/"
        },
        "id": "i4TdUcykby5H",
        "outputId": "6343d63a-87b5-407e-8ef8-227db3fd925d"
      },
      "execution_count": 24,
      "outputs": [
        {
          "output_type": "stream",
          "name": "stdout",
          "text": [
            "<class 'numpy.ndarray'>\n",
            "[[1 2 3]\n",
            " [4 5 6]\n",
            " [7 8 9]]\n",
            "Shape:  (3, 3)\n",
            "Size: 9\n",
            "Data type: int64\n"
          ]
        }
      ]
    },
    {
      "cell_type": "code",
      "source": [
        "# 2 Dimension Array\n",
        "two_dimension_array = np.array([[1,2,3],[4,5,6], [7,8,9]])\n",
        "first_row = two_dimension_array[0]\n",
        "second_row = two_dimension_array[1]\n",
        "third_row = two_dimension_array[2]\n",
        "print('First row:', first_row)\n",
        "print('Second row:', second_row)\n",
        "print('Third row: ', third_row)"
      ],
      "metadata": {
        "colab": {
          "base_uri": "https://localhost:8080/"
        },
        "id": "2adT1mj2cBWO",
        "outputId": "165f7694-c07e-4464-86d5-68fc105404b0"
      },
      "execution_count": 25,
      "outputs": [
        {
          "output_type": "stream",
          "name": "stdout",
          "text": [
            "First row: [1 2 3]\n",
            "Second row: [4 5 6]\n",
            "Third row:  [7 8 9]\n"
          ]
        }
      ]
    },
    {
      "cell_type": "code",
      "source": [
        "first_column= two_dimension_array[:,0]\n",
        "second_column = two_dimension_array[:,1]\n",
        "third_column = two_dimension_array[:,2]\n",
        "print('First column:', first_column)\n",
        "print('Second column:', second_column)\n",
        "print('Third column: ', third_column)\n",
        "print(two_dimension_array)\n"
      ],
      "metadata": {
        "colab": {
          "base_uri": "https://localhost:8080/"
        },
        "id": "Wj1mq-ntcHmH",
        "outputId": "c08acfb3-4c41-4037-e844-f3268a9db328"
      },
      "execution_count": 26,
      "outputs": [
        {
          "output_type": "stream",
          "name": "stdout",
          "text": [
            "First column: [1 4 7]\n",
            "Second column: [2 5 8]\n",
            "Third column:  [3 6 9]\n",
            "[[1 2 3]\n",
            " [4 5 6]\n",
            " [7 8 9]]\n"
          ]
        }
      ]
    },
    {
      "cell_type": "code",
      "source": [
        "two_dimension_array = np.array([[1,2,3],[4,5,6], [7,8,9]])\n",
        "first_two_rows_and_columns = two_dimension_array[0:2, 0:2]\n",
        "print(first_two_rows_and_columns)"
      ],
      "metadata": {
        "colab": {
          "base_uri": "https://localhost:8080/"
        },
        "id": "Utw3PfCfcRMB",
        "outputId": "9b778b3e-00e0-4f63-ed13-c61280412ec5"
      },
      "execution_count": 27,
      "outputs": [
        {
          "output_type": "stream",
          "name": "stdout",
          "text": [
            "[[1 2]\n",
            " [4 5]]\n"
          ]
        }
      ]
    },
    {
      "cell_type": "code",
      "source": [
        "two_dimension_array[::]"
      ],
      "metadata": {
        "colab": {
          "base_uri": "https://localhost:8080/"
        },
        "id": "OYwTkZ1FchN_",
        "outputId": "83fd1d39-165e-49b6-f1a5-705de254f33b"
      },
      "execution_count": 28,
      "outputs": [
        {
          "output_type": "execute_result",
          "data": {
            "text/plain": [
              "array([[1, 2, 3],\n",
              "       [4, 5, 6],\n",
              "       [7, 8, 9]])"
            ]
          },
          "metadata": {},
          "execution_count": 28
        }
      ]
    },
    {
      "cell_type": "code",
      "source": [
        "two_dimension_array = np.array([[1,2,3],[4,5,6], [7,8,9]])\n",
        "two_dimension_array[::-1,::-1]"
      ],
      "metadata": {
        "colab": {
          "base_uri": "https://localhost:8080/"
        },
        "id": "11aV-ymQcliT",
        "outputId": "2b30d5ce-cfd7-4012-c02c-51f41bf6bc84"
      },
      "execution_count": 29,
      "outputs": [
        {
          "output_type": "execute_result",
          "data": {
            "text/plain": [
              "array([[9, 8, 7],\n",
              "       [6, 5, 4],\n",
              "       [3, 2, 1]])"
            ]
          },
          "metadata": {},
          "execution_count": 29
        }
      ]
    },
    {
      "cell_type": "code",
      "source": [
        "print(two_dimension_array)\n",
        "two_dimension_array[1,1] = 55\n",
        "two_dimension_array[1,2] =44\n",
        "print(two_dimension_array)"
      ],
      "metadata": {
        "colab": {
          "base_uri": "https://localhost:8080/"
        },
        "id": "TKgq6pKhcxjo",
        "outputId": "154205d9-5be8-4725-9861-ff10f335ac55"
      },
      "execution_count": 30,
      "outputs": [
        {
          "output_type": "stream",
          "name": "stdout",
          "text": [
            "[[1 2 3]\n",
            " [4 5 6]\n",
            " [7 8 9]]\n",
            "[[ 1  2  3]\n",
            " [ 4 55 44]\n",
            " [ 7  8  9]]\n"
          ]
        }
      ]
    },
    {
      "cell_type": "code",
      "source": [
        "# numpy.zeros(shape, dtype=float, order='C')\n",
        "numpy_zeroes = np.zeros((3,3),dtype=int,order='C')\n",
        "numpy_zeroes"
      ],
      "metadata": {
        "colab": {
          "base_uri": "https://localhost:8080/"
        },
        "id": "R68EexL-c_TM",
        "outputId": "38fb0d96-e962-49cb-9ec2-3dbd61487f87"
      },
      "execution_count": 31,
      "outputs": [
        {
          "output_type": "execute_result",
          "data": {
            "text/plain": [
              "array([[0, 0, 0],\n",
              "       [0, 0, 0],\n",
              "       [0, 0, 0]])"
            ]
          },
          "metadata": {},
          "execution_count": 31
        }
      ]
    },
    {
      "cell_type": "code",
      "source": [
        "# Numpy Zeroes\n",
        "numpy_ones = np.ones((3,3),dtype=int,order='C')\n",
        "print(numpy_ones)"
      ],
      "metadata": {
        "colab": {
          "base_uri": "https://localhost:8080/"
        },
        "id": "rSUVLZnGdMld",
        "outputId": "e19ebe22-c04e-4117-f273-f2ac0dfc6d9c"
      },
      "execution_count": 32,
      "outputs": [
        {
          "output_type": "stream",
          "name": "stdout",
          "text": [
            "[[1 1 1]\n",
            " [1 1 1]\n",
            " [1 1 1]]\n"
          ]
        }
      ]
    },
    {
      "cell_type": "code",
      "source": [
        "twoes = numpy_ones * 2"
      ],
      "metadata": {
        "id": "VIrmGjZ6dSmu"
      },
      "execution_count": 33,
      "outputs": []
    },
    {
      "cell_type": "code",
      "source": [
        "# Reshape\n",
        "# numpy.reshape(), numpy.flatten()\n",
        "first_shape  = np.array([(1,2,3), (4,5,6)])\n",
        "print(first_shape)\n",
        "reshaped = first_shape.reshape(3,2)\n",
        "print(reshaped)"
      ],
      "metadata": {
        "colab": {
          "base_uri": "https://localhost:8080/"
        },
        "id": "XgGxklpwdecE",
        "outputId": "cbca7753-af8d-4bb6-98a0-3c277e2139ca"
      },
      "execution_count": 34,
      "outputs": [
        {
          "output_type": "stream",
          "name": "stdout",
          "text": [
            "[[1 2 3]\n",
            " [4 5 6]]\n",
            "[[1 2]\n",
            " [3 4]\n",
            " [5 6]]\n"
          ]
        }
      ]
    },
    {
      "cell_type": "code",
      "source": [
        "flattened = reshaped.flatten()\n",
        "flattened"
      ],
      "metadata": {
        "colab": {
          "base_uri": "https://localhost:8080/"
        },
        "id": "F2_RA-LYdjBq",
        "outputId": "ba4d008f-23b4-4615-8c38-7306e985db79"
      },
      "execution_count": 35,
      "outputs": [
        {
          "output_type": "execute_result",
          "data": {
            "text/plain": [
              "array([1, 2, 3, 4, 5, 6])"
            ]
          },
          "metadata": {},
          "execution_count": 35
        }
      ]
    },
    {
      "cell_type": "code",
      "source": [
        "np_list_one = np.array([1,2,3])\n",
        "np_list_two = np.array([4,5,6])\n",
        "\n",
        "print(np_list_one + np_list_two)\n",
        "\n",
        "print('Horizontal Append:', np.hstack((np_list_one, np_list_two)))"
      ],
      "metadata": {
        "colab": {
          "base_uri": "https://localhost:8080/"
        },
        "id": "7ZC_s9NOeRQM",
        "outputId": "be172142-cf2a-4085-fbb2-e8b5ed4e8644"
      },
      "execution_count": 36,
      "outputs": [
        {
          "output_type": "stream",
          "name": "stdout",
          "text": [
            "[5 7 9]\n",
            "Horizontal Append: [1 2 3 4 5 6]\n"
          ]
        }
      ]
    },
    {
      "cell_type": "code",
      "source": [
        "## Vertical Stack\n",
        "print('Vertical Append:', np.vstack((np_list_one, np_list_two)))\n"
      ],
      "metadata": {
        "colab": {
          "base_uri": "https://localhost:8080/"
        },
        "id": "raUqgXIueeq8",
        "outputId": "98dca91c-10d2-4b76-f268-9f20e4c74c8c"
      },
      "execution_count": 37,
      "outputs": [
        {
          "output_type": "stream",
          "name": "stdout",
          "text": [
            "Vertical Append: [[1 2 3]\n",
            " [4 5 6]]\n"
          ]
        }
      ]
    },
    {
      "cell_type": "code",
      "source": [
        "  # Generate a random float  number\n",
        "random_float = np.random.random()\n",
        "random_float"
      ],
      "metadata": {
        "colab": {
          "base_uri": "https://localhost:8080/"
        },
        "id": "f04J65lteveK",
        "outputId": "4f49f8eb-43b6-46d2-fa8c-07226e48f4f5"
      },
      "execution_count": 38,
      "outputs": [
        {
          "output_type": "execute_result",
          "data": {
            "text/plain": [
              "0.05343403362878163"
            ]
          },
          "metadata": {},
          "execution_count": 38
        }
      ]
    },
    {
      "cell_type": "code",
      "source": [
        "random_floats = np.random.random(5)\n",
        "random_floats"
      ],
      "metadata": {
        "colab": {
          "base_uri": "https://localhost:8080/"
        },
        "id": "JRo4z9QGe3GX",
        "outputId": "d87bd376-f375-49be-bdcd-5e20abe95c81"
      },
      "execution_count": 39,
      "outputs": [
        {
          "output_type": "execute_result",
          "data": {
            "text/plain": [
              "array([0.45001896, 0.57637251, 0.39509486, 0.76239332, 0.86918883])"
            ]
          },
          "metadata": {},
          "execution_count": 39
        }
      ]
    },
    {
      "cell_type": "code",
      "source": [
        "random_int = np.random.randint(0, 11)\n",
        "random_int"
      ],
      "metadata": {
        "colab": {
          "base_uri": "https://localhost:8080/"
        },
        "id": "dN4bQ9C3e_Jt",
        "outputId": "6241f796-359b-49be-b76e-c919d6f2001d"
      },
      "execution_count": 40,
      "outputs": [
        {
          "output_type": "execute_result",
          "data": {
            "text/plain": [
              "7"
            ]
          },
          "metadata": {},
          "execution_count": 40
        }
      ]
    },
    {
      "cell_type": "code",
      "source": [
        "# Generating a random integers between 2 and 11, and creating a one row array\n",
        "random_int = np.random.randint(2,10, size=4)\n",
        "random_int"
      ],
      "metadata": {
        "colab": {
          "base_uri": "https://localhost:8080/"
        },
        "id": "h3Z21Px6fK3r",
        "outputId": "e8a0d7e9-70e0-44a1-e547-006201f4d1cf"
      },
      "execution_count": 41,
      "outputs": [
        {
          "output_type": "execute_result",
          "data": {
            "text/plain": [
              "array([3, 6, 8, 8])"
            ]
          },
          "metadata": {},
          "execution_count": 41
        }
      ]
    },
    {
      "cell_type": "code",
      "source": [
        "random_int = np.random.randint(2,10, size=(3,3))\n",
        "random_int\n"
      ],
      "metadata": {
        "colab": {
          "base_uri": "https://localhost:8080/"
        },
        "id": "swGO2t-jfVIm",
        "outputId": "f189b2e5-bb37-43f9-e291-1fa2eb9a800b"
      },
      "execution_count": 42,
      "outputs": [
        {
          "output_type": "execute_result",
          "data": {
            "text/plain": [
              "array([[4, 6, 2],\n",
              "       [4, 2, 2],\n",
              "       [2, 7, 3]])"
            ]
          },
          "metadata": {},
          "execution_count": 42
        }
      ]
    },
    {
      "cell_type": "code",
      "source": [
        "normal_array = np.random.normal(79, 15, 80)\n",
        "normal_array\n"
      ],
      "metadata": {
        "colab": {
          "base_uri": "https://localhost:8080/"
        },
        "id": "A7TwRwLJfafr",
        "outputId": "3f41e64d-f6b2-418d-8274-4b9afff4e9af"
      },
      "execution_count": 43,
      "outputs": [
        {
          "output_type": "execute_result",
          "data": {
            "text/plain": [
              "array([ 54.36293588,  50.03115439,  78.47638167,  56.52523997,\n",
              "        67.03475053,  63.28901805,  82.75496728,  77.58281194,\n",
              "        62.7506294 ,  71.94781495,  78.93574282,  73.38089164,\n",
              "        73.66425841, 105.11511579,  85.97437113,  86.52806688,\n",
              "       102.7601885 ,  70.00180746,  94.53351837,  73.35009972,\n",
              "        75.56643684, 104.16504918,  67.60934993,  90.9277016 ,\n",
              "        90.5443332 ,  93.24309824,  57.05786528,  71.44001907,\n",
              "        76.1010073 ,  80.44924241,  86.72640141,  67.12227446,\n",
              "        59.72017621, 107.87504774,  74.03966057,  98.60820821,\n",
              "        95.06641524,  66.70059444,  76.58419086,  64.60342617,\n",
              "        84.46792535,  63.11340087,  75.64989123,  55.55014506,\n",
              "        84.86289382,  77.90798704, 112.40709247,  67.62513617,\n",
              "        76.62681037,  82.92520732,  67.23586387,  88.67252334,\n",
              "        66.41986771,  64.46613997,  69.75752401,  92.89779139,\n",
              "        48.49865414, 101.68567032,  93.38373368,  76.45569744,\n",
              "        88.54404856, 102.65106145,  53.62787457,  85.18581522,\n",
              "        69.15040098,  63.51610282,  96.94503119,  81.57453245,\n",
              "        61.69694479,  74.37594214,  77.57249833,  73.72073758,\n",
              "        74.58620701,  70.64327311,  72.59746477,  66.81030148,\n",
              "        87.56369058,  66.32030573,  52.24125031,  83.21970111])"
            ]
          },
          "metadata": {},
          "execution_count": 43
        }
      ]
    },
    {
      "cell_type": "code",
      "source": [
        "import matplotlib.pyplot as plt\n",
        "import seaborn as sns\n",
        "sns.set()\n",
        "plt.hist(normal_array, color=\"grey\", bins=50)"
      ],
      "metadata": {
        "colab": {
          "base_uri": "https://localhost:8080/",
          "height": 563
        },
        "id": "i4QvhKvtfjoh",
        "outputId": "604dad49-c03f-4ae2-fe04-9e27cbb055b2"
      },
      "execution_count": 44,
      "outputs": [
        {
          "output_type": "execute_result",
          "data": {
            "text/plain": [
              "(array([1., 1., 1., 0., 2., 1., 2., 0., 1., 0., 1., 4., 2., 1., 8., 0., 3.,\n",
              "        2., 2., 5., 2., 5., 3., 3., 1., 1., 2., 1., 3., 3., 1., 2., 1., 1.,\n",
              "        1., 2., 2., 1., 0., 1., 0., 1., 2., 1., 1., 0., 1., 0., 0., 1.]),\n",
              " array([ 48.49865414,  49.7768229 ,  51.05499167,  52.33316044,\n",
              "         53.6113292 ,  54.88949797,  56.16766674,  57.4458355 ,\n",
              "         58.72400427,  60.00217304,  61.2803418 ,  62.55851057,\n",
              "         63.83667934,  65.1148481 ,  66.39301687,  67.67118564,\n",
              "         68.9493544 ,  70.22752317,  71.50569194,  72.78386071,\n",
              "         74.06202947,  75.34019824,  76.61836701,  77.89653577,\n",
              "         79.17470454,  80.45287331,  81.73104207,  83.00921084,\n",
              "         84.28737961,  85.56554837,  86.84371714,  88.12188591,\n",
              "         89.40005467,  90.67822344,  91.95639221,  93.23456097,\n",
              "         94.51272974,  95.79089851,  97.06906727,  98.34723604,\n",
              "         99.62540481, 100.90357357, 102.18174234, 103.45991111,\n",
              "        104.73807987, 106.01624864, 107.29441741, 108.57258617,\n",
              "        109.85075494, 111.12892371, 112.40709247]),\n",
              " <BarContainer object of 50 artists>)"
            ]
          },
          "metadata": {},
          "execution_count": 44
        },
        {
          "output_type": "display_data",
          "data": {
            "text/plain": [
              "<Figure size 432x288 with 1 Axes>"
            ],
            "image/png": "[encoded data removed]"
          },
          "metadata": {}
        }
      ]
    },
    {
      "cell_type": "code",
      "source": [
        "four_by_four_matrix = np.matrix(np.ones((4,4), dtype=float))"
      ],
      "metadata": {
        "id": "8lUxwolwfvqO"
      },
      "execution_count": 45,
      "outputs": []
    },
    {
      "cell_type": "code",
      "source": [
        "four_by_four_matrix"
      ],
      "metadata": {
        "colab": {
          "base_uri": "https://localhost:8080/"
        },
        "id": "FQhaapmhf6E2",
        "outputId": "cde7356b-3c4f-4bc8-96b6-e2afa30cd32f"
      },
      "execution_count": 46,
      "outputs": [
        {
          "output_type": "execute_result",
          "data": {
            "text/plain": [
              "matrix([[1., 1., 1., 1.],\n",
              "        [1., 1., 1., 1.],\n",
              "        [1., 1., 1., 1.],\n",
              "        [1., 1., 1., 1.]])"
            ]
          },
          "metadata": {},
          "execution_count": 46
        }
      ]
    },
    {
      "cell_type": "code",
      "source": [
        "np.asarray(four_by_four_matrix)[2] = 2\n",
        "four_by_four_matrix"
      ],
      "metadata": {
        "colab": {
          "base_uri": "https://localhost:8080/"
        },
        "id": "8A49OFPxf944",
        "outputId": "8fb4647a-a39f-4991-8ef8-b865f2b55a2e"
      },
      "execution_count": 47,
      "outputs": [
        {
          "output_type": "execute_result",
          "data": {
            "text/plain": [
              "matrix([[1., 1., 1., 1.],\n",
              "        [1., 1., 1., 1.],\n",
              "        [2., 2., 2., 2.],\n",
              "        [1., 1., 1., 1.]])"
            ]
          },
          "metadata": {},
          "execution_count": 47
        }
      ]
    },
    {
      "cell_type": "code",
      "source": [
        "lst = range(0, 11, 2)\n",
        "lst"
      ],
      "metadata": {
        "colab": {
          "base_uri": "https://localhost:8080/"
        },
        "id": "AxZgFAAlgFDT",
        "outputId": "db783d1f-ab90-4b52-8cd4-ff25f3cedff7"
      },
      "execution_count": 48,
      "outputs": [
        {
          "output_type": "execute_result",
          "data": {
            "text/plain": [
              "range(0, 11, 2)"
            ]
          },
          "metadata": {},
          "execution_count": 48
        }
      ]
    },
    {
      "cell_type": "code",
      "source": [
        "for l in lst:\n",
        "    print(l)\n"
      ],
      "metadata": {
        "colab": {
          "base_uri": "https://localhost:8080/"
        },
        "id": "wOedFibIgN2c",
        "outputId": "55148ab4-265d-442a-c856-5ade31e1d71f"
      },
      "execution_count": 49,
      "outputs": [
        {
          "output_type": "stream",
          "name": "stdout",
          "text": [
            "0\n",
            "2\n",
            "4\n",
            "6\n",
            "8\n",
            "10\n"
          ]
        }
      ]
    },
    {
      "cell_type": "code",
      "source": [
        "# Similar to range arange numpy.arange(start, stop, step)\n",
        "whole_numbers = np.arange(0, 20, 1)\n",
        "whole_numbers"
      ],
      "metadata": {
        "colab": {
          "base_uri": "https://localhost:8080/"
        },
        "id": "RVUV6vNmgTdb",
        "outputId": "ec61ad0d-9b40-40dd-910e-3fe224ba6ef3"
      },
      "execution_count": 50,
      "outputs": [
        {
          "output_type": "execute_result",
          "data": {
            "text/plain": [
              "array([ 0,  1,  2,  3,  4,  5,  6,  7,  8,  9, 10, 11, 12, 13, 14, 15, 16,\n",
              "       17, 18, 19])"
            ]
          },
          "metadata": {},
          "execution_count": 50
        }
      ]
    },
    {
      "cell_type": "code",
      "source": [
        "natural_numbers = np.arange(1, 20, 1)\n",
        "natural_numbers"
      ],
      "metadata": {
        "colab": {
          "base_uri": "https://localhost:8080/"
        },
        "id": "dUBZyiWXgb0d",
        "outputId": "a4ae2a8d-e6ef-4b48-dbef-8ffb5a2f5d6e"
      },
      "execution_count": 51,
      "outputs": [
        {
          "output_type": "execute_result",
          "data": {
            "text/plain": [
              "array([ 1,  2,  3,  4,  5,  6,  7,  8,  9, 10, 11, 12, 13, 14, 15, 16, 17,\n",
              "       18, 19])"
            ]
          },
          "metadata": {},
          "execution_count": 51
        }
      ]
    },
    {
      "cell_type": "code",
      "source": [
        "odd_numbers = np.arange(1, 20, 2)\n",
        "odd_numbers"
      ],
      "metadata": {
        "colab": {
          "base_uri": "https://localhost:8080/"
        },
        "id": "CHS9Vdcjgiv7",
        "outputId": "a45d69ee-df59-4e8e-e545-852e9cf98131"
      },
      "execution_count": 52,
      "outputs": [
        {
          "output_type": "execute_result",
          "data": {
            "text/plain": [
              "array([ 1,  3,  5,  7,  9, 11, 13, 15, 17, 19])"
            ]
          },
          "metadata": {},
          "execution_count": 52
        }
      ]
    },
    {
      "cell_type": "code",
      "source": [
        "even_numbers = np.arange(2, 20, 2)\n",
        "even_numbers\n"
      ],
      "metadata": {
        "colab": {
          "base_uri": "https://localhost:8080/"
        },
        "id": "I9pzke20gqI6",
        "outputId": "433c749f-19e4-4b81-c677-26d76f394eb4"
      },
      "execution_count": 53,
      "outputs": [
        {
          "output_type": "execute_result",
          "data": {
            "text/plain": [
              "array([ 2,  4,  6,  8, 10, 12, 14, 16, 18])"
            ]
          },
          "metadata": {},
          "execution_count": 53
        }
      ]
    },
    {
      "cell_type": "code",
      "source": [
        "# numpy.linspace()\n",
        "# numpy.logspace() in Python with Example\n",
        "# For instance, it can be used to create 10 values from 1 to 5 evenly spaced.\n",
        "np.linspace(1.0, 5.0, num=10)"
      ],
      "metadata": {
        "colab": {
          "base_uri": "https://localhost:8080/"
        },
        "id": "SOJPkx0dgupB",
        "outputId": "98065091-22d5-4fb0-8b9b-25f819cd1cae"
      },
      "execution_count": 54,
      "outputs": [
        {
          "output_type": "execute_result",
          "data": {
            "text/plain": [
              "array([1.        , 1.44444444, 1.88888889, 2.33333333, 2.77777778,\n",
              "       3.22222222, 3.66666667, 4.11111111, 4.55555556, 5.        ])"
            ]
          },
          "metadata": {},
          "execution_count": 54
        }
      ]
    },
    {
      "cell_type": "code",
      "source": [
        "# not to include the last value in the interval\n",
        "np.linspace(1.0, 5.0, num=5, endpoint=False)"
      ],
      "metadata": {
        "colab": {
          "base_uri": "https://localhost:8080/"
        },
        "id": "_vAVgzzWg2El",
        "outputId": "ab7cfb33-83ae-4700-956e-7a480ebb944f"
      },
      "execution_count": 55,
      "outputs": [
        {
          "output_type": "execute_result",
          "data": {
            "text/plain": [
              "array([1. , 1.8, 2.6, 3.4, 4.2])"
            ]
          },
          "metadata": {},
          "execution_count": 55
        }
      ]
    },
    {
      "cell_type": "code",
      "source": [
        "# LogSpace returns even spaced numbers on a log scale. Logspace has the same parameters as np.linspace.\n",
        "\n",
        "# Syntax:\n",
        "\n",
        "# numpy.logspace(start, stop, num, endpoint)\n",
        "\n",
        "np.logspace(2, 4.0, num=4)"
      ],
      "metadata": {
        "colab": {
          "base_uri": "https://localhost:8080/"
        },
        "id": "n0UEPuPhg7bD",
        "outputId": "69877813-8579-4563-eabe-059056973597"
      },
      "execution_count": 56,
      "outputs": [
        {
          "output_type": "execute_result",
          "data": {
            "text/plain": [
              "array([  100.        ,   464.15888336,  2154.43469003, 10000.        ])"
            ]
          },
          "metadata": {},
          "execution_count": 56
        }
      ]
    },
    {
      "cell_type": "code",
      "source": [
        "# to check the size of an array\n",
        "x = np.array([1,2,3], dtype=np.complex128)\n",
        "x"
      ],
      "metadata": {
        "colab": {
          "base_uri": "https://localhost:8080/"
        },
        "id": "d5KtQZN9hOUS",
        "outputId": "69316eae-0ff5-451f-98d1-5651cfef3dfb"
      },
      "execution_count": 58,
      "outputs": [
        {
          "output_type": "execute_result",
          "data": {
            "text/plain": [
              "array([1.+0.j, 2.+0.j, 3.+0.j])"
            ]
          },
          "metadata": {},
          "execution_count": 58
        }
      ]
    },
    {
      "cell_type": "code",
      "source": [
        "x.itemsize"
      ],
      "metadata": {
        "colab": {
          "base_uri": "https://localhost:8080/"
        },
        "id": "Qv-J9cSvhU4w",
        "outputId": "8f7c4f4c-2f9f-4858-92cd-a186eb47f84a"
      },
      "execution_count": 59,
      "outputs": [
        {
          "output_type": "execute_result",
          "data": {
            "text/plain": [
              "16"
            ]
          },
          "metadata": {},
          "execution_count": 59
        }
      ]
    },
    {
      "cell_type": "code",
      "source": [
        "# indexing and Slicing NumPy Arrays in Python\n",
        "np_list = np.array([(1,2,3), (4,5,6)])\n",
        "np_list"
      ],
      "metadata": {
        "colab": {
          "base_uri": "https://localhost:8080/"
        },
        "id": "SUrhnEdPhdmZ",
        "outputId": "7379c2f8-83dd-4099-c1ed-38e0627b64cc"
      },
      "execution_count": 60,
      "outputs": [
        {
          "output_type": "execute_result",
          "data": {
            "text/plain": [
              "array([[1, 2, 3],\n",
              "       [4, 5, 6]])"
            ]
          },
          "metadata": {},
          "execution_count": 60
        }
      ]
    },
    {
      "cell_type": "code",
      "source": [
        "print('First row: ', np_list[0])\n",
        "print('Second row: ', np_list[1])"
      ],
      "metadata": {
        "colab": {
          "base_uri": "https://localhost:8080/"
        },
        "id": "mTuN9WNZhkAk",
        "outputId": "d416a8f2-682f-4b80-ccfe-1d00cd5f1a21"
      },
      "execution_count": 61,
      "outputs": [
        {
          "output_type": "stream",
          "name": "stdout",
          "text": [
            "First row:  [1 2 3]\n",
            "Second row:  [4 5 6]\n"
          ]
        }
      ]
    },
    {
      "cell_type": "code",
      "source": [
        "print('First column: ', np_list[:,0])\n",
        "print('Second column: ', np_list[:,1])\n",
        "print('Third column: ', np_list[:,2])"
      ],
      "metadata": {
        "colab": {
          "base_uri": "https://localhost:8080/"
        },
        "id": "z7j9DhBshsJs",
        "outputId": "04f2d1e1-d444-4ab5-f3be-34e1805128b6"
      },
      "execution_count": 62,
      "outputs": [
        {
          "output_type": "stream",
          "name": "stdout",
          "text": [
            "First column:  [1 4]\n",
            "Second column:  [2 5]\n",
            "Third column:  [3 6]\n"
          ]
        }
      ]
    },
    {
      "cell_type": "code",
      "source": [
        "np_normal_dis = np.random.normal(5, 0.5, 100)\n",
        "np_normal_dis\n",
        "## min, max, mean, median, sd\n",
        "print('min: ', two_dimension_array.min())\n",
        "print('max: ', two_dimension_array.max())\n",
        "print('mean: ',two_dimension_array.mean())\n",
        "# print('median: ', two_dimension_array.median())\n",
        "print('sd: ', two_dimension_array.std())"
      ],
      "metadata": {
        "colab": {
          "base_uri": "https://localhost:8080/"
        },
        "id": "60Q6yav1hwrS",
        "outputId": "ff5eebc9-8bdd-4dff-fdcb-6cc290fdca0b"
      },
      "execution_count": 63,
      "outputs": [
        {
          "output_type": "stream",
          "name": "stdout",
          "text": [
            "min:  1\n",
            "max:  55\n",
            "mean:  14.777777777777779\n",
            "sd:  18.913709183069525\n"
          ]
        }
      ]
    },
    {
      "cell_type": "code",
      "source": [
        "print(two_dimension_array)\n",
        "print('Column with minimum: ', np.amin(two_dimension_array,axis=0))\n",
        "print('Column with maximum: ', np.amax(two_dimension_array,axis=0))\n",
        "print('=== Row ==')\n",
        "print('Row with minimum: ', np.amin(two_dimension_array,axis=1))\n",
        "print('Row with maximum: ', np.amax(two_dimension_array,axis=1))"
      ],
      "metadata": {
        "colab": {
          "base_uri": "https://localhost:8080/"
        },
        "id": "Mfakv69lh29e",
        "outputId": "6a27e70e-163e-4cde-bebd-b6549019c831"
      },
      "execution_count": 64,
      "outputs": [
        {
          "output_type": "stream",
          "name": "stdout",
          "text": [
            "[[ 1  2  3]\n",
            " [ 4 55 44]\n",
            " [ 7  8  9]]\n",
            "Column with minimum:  [1 2 3]\n",
            "Column with maximum:  [ 7 55 44]\n",
            "=== Row ==\n",
            "Row with minimum:  [1 4 7]\n",
            "Row with maximum:  [ 3 55  9]\n"
          ]
        }
      ]
    },
    {
      "cell_type": "code",
      "source": [
        "a = [1,2,3]\n",
        "\n",
        "# Repeat whole of 'a' two times\n",
        "print('Tile:   ', np.tile(a, 2))\n",
        "\n",
        "# Repeat each element of 'a' two times\n",
        "print('Repeat: ', np.repeat(a, 2))"
      ],
      "metadata": {
        "colab": {
          "base_uri": "https://localhost:8080/"
        },
        "id": "K_tQsiasiAb_",
        "outputId": "65067103-c90b-4f76-c5c4-3029208c43cf"
      },
      "execution_count": 65,
      "outputs": [
        {
          "output_type": "stream",
          "name": "stdout",
          "text": [
            "Tile:    [1 2 3 1 2 3]\n",
            "Repeat:  [1 1 2 2 3 3]\n"
          ]
        }
      ]
    },
    {
      "cell_type": "code",
      "source": [
        "# One random number between [0,1)\n",
        "one_random_num = np.random.random()\n",
        "one_random_in = np.random\n",
        "print(one_random_num)"
      ],
      "metadata": {
        "colab": {
          "base_uri": "https://localhost:8080/"
        },
        "id": "zJEQ8RbyiJw5",
        "outputId": "b906a081-42bb-4cba-baa2-a9245f61b92b"
      },
      "execution_count": 66,
      "outputs": [
        {
          "output_type": "stream",
          "name": "stdout",
          "text": [
            "0.04532613089216386\n"
          ]
        }
      ]
    },
    {
      "cell_type": "code",
      "source": [
        "# Random numbers between [0,1) of shape 2,3\n",
        "r = np.random.random(size=[2,3])\n",
        "print(r)\n"
      ],
      "metadata": {
        "colab": {
          "base_uri": "https://localhost:8080/"
        },
        "id": "lxmdiCZniPLU",
        "outputId": "74f10a97-73ce-4e1d-e9f6-9c613cb702ba"
      },
      "execution_count": 67,
      "outputs": [
        {
          "output_type": "stream",
          "name": "stdout",
          "text": [
            "[[0.15471467 0.92837094 0.90868136]\n",
            " [0.39963873 0.56408483 0.98070416]]\n"
          ]
        }
      ]
    },
    {
      "cell_type": "code",
      "source": [
        "print(np.random.choice(['a', 'e', 'i', 'o', 'u'], size=10))"
      ],
      "metadata": {
        "colab": {
          "base_uri": "https://localhost:8080/"
        },
        "id": "Lqee-FKGiVOs",
        "outputId": "ff23ca01-79bf-4f11-a753-0781d64092f0"
      },
      "execution_count": 68,
      "outputs": [
        {
          "output_type": "stream",
          "name": "stdout",
          "text": [
            "['a' 'i' 'a' 'e' 'e' 'a' 'o' 'u' 'u' 'a']\n"
          ]
        }
      ]
    },
    {
      "cell_type": "code",
      "source": [
        "## Random numbers between [0, 1] of shape 2, 2\n",
        "rand = np.random.rand(2,2)\n",
        "rand"
      ],
      "metadata": {
        "colab": {
          "base_uri": "https://localhost:8080/"
        },
        "id": "JpNdL_pqianh",
        "outputId": "577f896c-fc56-46f5-bef2-350073af8c33"
      },
      "execution_count": 69,
      "outputs": [
        {
          "output_type": "execute_result",
          "data": {
            "text/plain": [
              "array([[0.86599556, 0.59573961],\n",
              "       [0.11217238, 0.86881455]])"
            ]
          },
          "metadata": {},
          "execution_count": 69
        }
      ]
    },
    {
      "cell_type": "code",
      "source": [
        "# Random integers between [0, 10) of shape 2,5\n",
        "rand_int = np.random.randint(0, 10, size=[5,3])\n",
        "rand_int\n"
      ],
      "metadata": {
        "colab": {
          "base_uri": "https://localhost:8080/"
        },
        "id": "AwVfGqZRigU4",
        "outputId": "d4bf37c6-1dac-4e20-8e9e-5fa2b5184796"
      },
      "execution_count": 70,
      "outputs": [
        {
          "output_type": "execute_result",
          "data": {
            "text/plain": [
              "array([[7, 0, 7],\n",
              "       [7, 1, 2],\n",
              "       [2, 6, 8],\n",
              "       [0, 6, 1],\n",
              "       [6, 2, 0]])"
            ]
          },
          "metadata": {},
          "execution_count": 70
        }
      ]
    },
    {
      "cell_type": "code",
      "source": [
        "from scipy import stats\n",
        "np_normal_dis = np.random.normal(5, 0.5, 1000) # mean, standard deviation, number of samples\n",
        "np_normal_dis\n",
        "## min, max, mean, median, sd\n",
        "print('min: ', np.min(np_normal_dis))\n",
        "print('max: ', np.max(np_normal_dis))\n",
        "print('mean: ', np.mean(np_normal_dis))\n",
        "print('median: ', np.median(np_normal_dis))\n",
        "print('mode: ', stats.mode(np_normal_dis))\n",
        "print('sd: ', np.std(np_normal_dis))\n"
      ],
      "metadata": {
        "colab": {
          "base_uri": "https://localhost:8080/"
        },
        "id": "CA7bkHw1inqh",
        "outputId": "9550449b-005b-412d-ce8c-6637284b7566"
      },
      "execution_count": 71,
      "outputs": [
        {
          "output_type": "stream",
          "name": "stdout",
          "text": [
            "min:  3.4655600299539615\n",
            "max:  6.792383433125141\n",
            "mean:  5.002544254794596\n",
            "median:  5.001520253366988\n",
            "mode:  ModeResult(mode=array([3.46556003]), count=array([1]))\n",
            "sd:  0.4956126881326468\n"
          ]
        },
        {
          "output_type": "stream",
          "name": "stderr",
          "text": [
            "<ipython-input-71-4ae48b98fc4f>:9: FutureWarning: Unlike other reduction functions (e.g. `skew`, `kurtosis`), the default behavior of `mode` typically preserves the axis it acts along. In SciPy 1.11.0, this behavior will change: the default value of `keepdims` will become False, the `axis` over which the statistic is taken will be eliminated, and the value None will no longer be accepted. Set `keepdims` to True or False to avoid this warning.\n",
            "  print('mode: ', stats.mode(np_normal_dis))\n"
          ]
        }
      ]
    },
    {
      "cell_type": "code",
      "source": [
        "plt.hist(np_normal_dis, color=\"grey\", bins=21)\n",
        "plt.show()"
      ],
      "metadata": {
        "colab": {
          "base_uri": "https://localhost:8080/",
          "height": 268
        },
        "id": "8b64M-yEiwY0",
        "outputId": "9840c81a-90da-4b9d-a59e-16cc4a9c63c4"
      },
      "execution_count": 72,
      "outputs": [
        {
          "output_type": "display_data",
          "data": {
            "text/plain": [
              "<Figure size 432x288 with 1 Axes>"
            ],
            "image/png": "[encoded data removed]"
          },
          "metadata": {}
        }
      ]
    },
    {
      "cell_type": "code",
      "source": [
        "## Linear algebra\n",
        "### Dot product: product of two arrays\n",
        "f = np.array([1,2,3])\n",
        "g = np.array([4,5,3])\n",
        "### 1*4+2*5 + 3*6\n",
        "np.dot(f, g)  # 23"
      ],
      "metadata": {
        "colab": {
          "base_uri": "https://localhost:8080/"
        },
        "id": "mTOCcKNfi44z",
        "outputId": "c011eaf8-a892-4fa2-ce0d-9ce9112bf65b"
      },
      "execution_count": 73,
      "outputs": [
        {
          "output_type": "execute_result",
          "data": {
            "text/plain": [
              "23"
            ]
          },
          "metadata": {},
          "execution_count": 73
        }
      ]
    },
    {
      "cell_type": "code",
      "source": [
        "### Matmul: matruc product of two arrays\n",
        "h = [[1,2],[3,4]]\n",
        "i = [[5,6],[7,8]]\n",
        "### 1*5+2*7 = 19\n",
        "np.matmul(h, i)"
      ],
      "metadata": {
        "colab": {
          "base_uri": "https://localhost:8080/"
        },
        "id": "87Spf7-SjJ5w",
        "outputId": "1a1ca07a-71ce-4429-f112-10507069ca3d"
      },
      "execution_count": 74,
      "outputs": [
        {
          "output_type": "execute_result",
          "data": {
            "text/plain": [
              "array([[19, 22],\n",
              "       [43, 50]])"
            ]
          },
          "metadata": {},
          "execution_count": 74
        }
      ]
    },
    {
      "cell_type": "code",
      "source": [
        "np.linalg.det(i)\n"
      ],
      "metadata": {
        "colab": {
          "base_uri": "https://localhost:8080/"
        },
        "id": "BRgrKVrTje5f",
        "outputId": "2d799a6d-8fea-4542-ef73-730019af2916"
      },
      "execution_count": 75,
      "outputs": [
        {
          "output_type": "execute_result",
          "data": {
            "text/plain": [
              "-2.000000000000005"
            ]
          },
          "metadata": {},
          "execution_count": 75
        }
      ]
    },
    {
      "cell_type": "code",
      "source": [
        "Z = np.zeros((8,8))\n",
        "Z[1::2,::2] = 1\n",
        "Z[::2,1::2] = 1"
      ],
      "metadata": {
        "id": "-13ImOj0jl1s"
      },
      "execution_count": 76,
      "outputs": []
    },
    {
      "cell_type": "code",
      "source": [
        "Z"
      ],
      "metadata": {
        "colab": {
          "base_uri": "https://localhost:8080/"
        },
        "id": "kzXnVCaXjqdc",
        "outputId": "e1104a5f-285c-4b4c-c6cb-cec7db5b7431"
      },
      "execution_count": 78,
      "outputs": [
        {
          "output_type": "execute_result",
          "data": {
            "text/plain": [
              "array([[0., 1., 0., 1., 0., 1., 0., 1.],\n",
              "       [1., 0., 1., 0., 1., 0., 1., 0.],\n",
              "       [0., 1., 0., 1., 0., 1., 0., 1.],\n",
              "       [1., 0., 1., 0., 1., 0., 1., 0.],\n",
              "       [0., 1., 0., 1., 0., 1., 0., 1.],\n",
              "       [1., 0., 1., 0., 1., 0., 1., 0.],\n",
              "       [0., 1., 0., 1., 0., 1., 0., 1.],\n",
              "       [1., 0., 1., 0., 1., 0., 1., 0.]])"
            ]
          },
          "metadata": {},
          "execution_count": 78
        }
      ]
    },
    {
      "cell_type": "code",
      "source": [
        "new_list = [ x + 2 for x in range(0, 11)]\n"
      ],
      "metadata": {
        "id": "5qsMIUVDjrTV"
      },
      "execution_count": 79,
      "outputs": []
    },
    {
      "cell_type": "code",
      "source": [
        "new_list"
      ],
      "metadata": {
        "colab": {
          "base_uri": "https://localhost:8080/"
        },
        "id": "fEFqdJIwj-O2",
        "outputId": "36d0ed0e-eab2-47d8-8b8d-d2386372b52c"
      },
      "execution_count": 80,
      "outputs": [
        {
          "output_type": "execute_result",
          "data": {
            "text/plain": [
              "[2, 3, 4, 5, 6, 7, 8, 9, 10, 11, 12]"
            ]
          },
          "metadata": {},
          "execution_count": 80
        }
      ]
    },
    {
      "cell_type": "code",
      "source": [
        "np_arr = np.array(range(0, 11))\n",
        "np_arr + 2"
      ],
      "metadata": {
        "colab": {
          "base_uri": "https://localhost:8080/"
        },
        "id": "ZyKZMc-BkDBN",
        "outputId": "bb4482d5-89c5-4751-ba75-3eb09a1da3cc"
      },
      "execution_count": 81,
      "outputs": [
        {
          "output_type": "execute_result",
          "data": {
            "text/plain": [
              "array([ 2,  3,  4,  5,  6,  7,  8,  9, 10, 11, 12])"
            ]
          },
          "metadata": {},
          "execution_count": 81
        }
      ]
    },
    {
      "cell_type": "code",
      "source": [
        "temp = np.array([1,2,3,4,5])\n",
        "pressure = temp * 2 + 5\n",
        "pressure"
      ],
      "metadata": {
        "colab": {
          "base_uri": "https://localhost:8080/"
        },
        "id": "V-atoD6okJeR",
        "outputId": "97dc4d94-717c-48ce-cd35-096b94ad71b4"
      },
      "execution_count": 82,
      "outputs": [
        {
          "output_type": "execute_result",
          "data": {
            "text/plain": [
              "array([ 7,  9, 11, 13, 15])"
            ]
          },
          "metadata": {},
          "execution_count": 82
        }
      ]
    },
    {
      "cell_type": "code",
      "source": [
        "plt.plot(temp,pressure)\n",
        "plt.xlabel('Temperature in oC')\n",
        "plt.ylabel('Pressure in atm')\n",
        "plt.title('Temperature vs Pressure')\n",
        "plt.xticks(np.arange(0, 6, step=0.5))\n",
        "plt.show()\n"
      ],
      "metadata": {
        "colab": {
          "base_uri": "https://localhost:8080/",
          "height": 301
        },
        "id": "bVczvwk2kQxW",
        "outputId": "7970da9a-f2a3-4ec2-d497-87b7847bd59f"
      },
      "execution_count": 83,
      "outputs": [
        {
          "output_type": "display_data",
          "data": {
            "text/plain": [
              "<Figure size 432x288 with 1 Axes>"
            ],
            "image/png": "[encoded data removed]"
          },
          "metadata": {}
        }
      ]
    },
    {
      "cell_type": "code",
      "source": [
        "mu = 28\n",
        "sigma = 15\n",
        "samples = 100000\n",
        "\n",
        "x = np.random.normal(mu, sigma, samples)\n",
        "ax = sns.distplot(x);\n",
        "ax.set(xlabel=\"x\", ylabel='y')\n",
        "plt.show()\n"
      ],
      "metadata": {
        "colab": {
          "base_uri": "https://localhost:8080/",
          "height": 340
        },
        "id": "OjZRcyt2kXtO",
        "outputId": "cfedd973-0505-451e-fde6-98ffd8507906"
      },
      "execution_count": 84,
      "outputs": [
        {
          "output_type": "stream",
          "name": "stderr",
          "text": [
            "/usr/local/lib/python3.9/dist-packages/seaborn/distributions.py:2619: FutureWarning: `distplot` is a deprecated function and will be removed in a future version. Please adapt your code to use either `displot` (a figure-level function with similar flexibility) or `histplot` (an axes-level function for histograms).\n",
            "  warnings.warn(msg, FutureWarning)\n"
          ]
        },
        {
          "output_type": "display_data",
          "data": {
            "text/plain": [
              "<Figure size 432x288 with 1 Axes>"
            ],
            "image/png": "[encoded data removed]"
          },
          "metadata": {}
        }
      ]
    },
    {
      "cell_type": "code",
      "source": [],
      "metadata": {
        "id": "cm_E0o22kd17"
      },
      "execution_count": null,
      "outputs": []
    }
  ]
}